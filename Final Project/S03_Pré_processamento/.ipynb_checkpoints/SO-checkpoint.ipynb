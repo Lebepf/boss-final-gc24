{
 "cells": [
  {
   "cell_type": "code",
   "execution_count": null,
   "id": "c26f17fa-816a-49ed-8c40-8104cfba2c77",
   "metadata": {},
   "outputs": [],
   "source": []
  }
 ],
 "metadata": {
  "kernelspec": {
   "display_name": "",
   "name": ""
  },
  "language_info": {
   "name": ""
  }
 },
 "nbformat": 4,
 "nbformat_minor": 5
}
