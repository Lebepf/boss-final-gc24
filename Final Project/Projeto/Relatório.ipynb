{
 "cells": [
  {
   "cell_type": "markdown",
   "id": "c8e85d61-e922-4ddb-aac9-3044911ccf1c",
   "metadata": {},
   "source": [
    "## Problema : \n",
    "\n",
    "#### O Conjunto de Dados de Previsão de Risco de Infarto serve como um recurso valioso para explorar as dinâmicas complexas da saúde cardiovascular e seus preditores. Os infartos, ou infartos do miocárdio, continuam sendo um problema de saúde global significativo, o que torna necessário um entendimento mais profundo de seus precurssores e fatores mitigadores potenciais. Este conjunto de dados abrange uma ampla gama de atributos, incluindo idade, níveis de colesterol, pressão arterial, hábitos de tabagismo, padrões de exercício, preferências alimentares e muito mais, com o objetivo de elucidar a interação complexa desses fatores na determinação da probabilidade de um infarto. Ao empregar análises preditivas e aprendizado de máquina nesse conjunto de dados, pesquisadores e profissionais de saúde podem trabalhar em direção a estratégias proativas para a prevenção e manejo de doenças cardíacas. O conjunto de dados é um testemunho dos esforços coletivos para aprimorar nossa compreensão da saúde cardiovascular e abrir caminho para um futuro mais saudável.\n",
    "\n",
    "#### obs-- reescrever\n"
   ]
  },
  {
   "cell_type": "code",
   "execution_count": null,
   "id": "db4a3952-4e4c-4abf-bbb4-35b6ace5747f",
   "metadata": {},
   "outputs": [],
   "source": []
  }
 ],
 "metadata": {
  "kernelspec": {
   "display_name": "Python 3 (ipykernel)",
   "language": "python",
   "name": "python3"
  },
  "language_info": {
   "codemirror_mode": {
    "name": "ipython",
    "version": 3
   },
   "file_extension": ".py",
   "mimetype": "text/x-python",
   "name": "python",
   "nbconvert_exporter": "python",
   "pygments_lexer": "ipython3",
   "version": "3.12.4"
  }
 },
 "nbformat": 4,
 "nbformat_minor": 5
}
