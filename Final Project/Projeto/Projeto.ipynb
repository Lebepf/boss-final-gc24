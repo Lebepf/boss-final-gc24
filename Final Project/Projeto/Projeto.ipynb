{
 "cells": [
  {
   "cell_type": "code",
   "execution_count": null,
   "id": "5b3c2fb4-df33-47b7-8d3e-765a8f9e8fe2",
   "metadata": {},
   "outputs": [],
   "source": [
    "import pandas as pd\n",
    "\n",
    "df_heart = pd.read_csv('heart_attack_prediction_dataset.csv')\n",
    "df_heart.head()"
   ]
  },
  {
   "cell_type": "code",
   "execution_count": null,
   "id": "61fd8932-4d94-4e4d-98e6-56b0b89ebdc4",
   "metadata": {},
   "outputs": [],
   "source": [
    "df_heart.columns"
   ]
  },
  {
   "cell_type": "code",
   "execution_count": null,
   "id": "559ab64a-8917-40c8-872b-b6588bebf041",
   "metadata": {},
   "outputs": [],
   "source": [
    "# Importando as bibliotecas necessárias\n",
    "import seaborn as sns\n",
    "import matplotlib.pyplot as plt\n",
    "\n",
    "# Carregar seu conjunto de dados (exemplo: df_heart)\n",
    "# Exemplo: df_heart = pd.read_csv('path_to_your_dataset.csv')\n",
    "\n",
    "# Calcular a correlação entre as variáveis\n",
    "correlation_matrix = df_heart.corr()\n",
    "\n",
    "correlation_matrix\n"
   ]
  },
  {
   "cell_type": "code",
   "execution_count": null,
   "id": "5d9273a9-60f9-4a12-9ac2-cd0dce39876a",
   "metadata": {},
   "outputs": [],
   "source": [
    "# Configurando o gráfico\n",
    "plt.figure(figsize=(10, 8))  # Ajuste o tamanho da figura conforme necessário\n",
    "\n",
    "# Criar o heatmap\n",
    "sns.heatmap(correlation_matrix, annot=True, cmap='coolwarm', fmt='.2f', linewidths=0.5)\n",
    "\n",
    "# Exibir o gráfico\n",
    "plt.title('Heatmap de Correlação entre Variáveis')\n",
    "plt.show()"
   ]
  },
  {
   "cell_type": "code",
   "execution_count": null,
   "id": "79a57d95-50c3-49e8-9086-747bf418be8f",
   "metadata": {},
   "outputs": [],
   "source": []
  }
 ],
 "metadata": {
  "kernelspec": {
   "display_name": "Python 3 (ipykernel)",
   "language": "python",
   "name": "python3"
  },
  "language_info": {
   "codemirror_mode": {
    "name": "ipython",
    "version": 3
   },
   "file_extension": ".py",
   "mimetype": "text/x-python",
   "name": "python",
   "nbconvert_exporter": "python",
   "pygments_lexer": "ipython3",
   "version": "3.12.4"
  }
 },
 "nbformat": 4,
 "nbformat_minor": 5
}
