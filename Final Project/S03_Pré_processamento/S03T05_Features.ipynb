{
 "cells": [
  {
   "cell_type": "code",
   "execution_count": 3,
   "id": "d9fca7b8-5184-414e-b2af-77ee4feee7a6",
   "metadata": {},
   "outputs": [
    {
     "data": {
      "text/plain": [
       "Index(['Patient ID', 'Age', 'Sex', 'Cholesterol', 'Blood Pressure',\n",
       "       'Heart Rate', 'Diabetes', 'Family History', 'Smoking', 'Obesity',\n",
       "       'Alcohol Consumption', 'Exercise Hours Per Week', 'Diet',\n",
       "       'Previous Heart Problems', 'Medication Use', 'Stress Level',\n",
       "       'Sedentary Hours Per Day', 'Income', 'BMI', 'Triglycerides',\n",
       "       'Physical Activity Days Per Week', 'Sleep Hours Per Day', 'Country',\n",
       "       'Continent', 'Hemisphere', 'Heart Attack Risk'],\n",
       "      dtype='object')"
      ]
     },
     "execution_count": 3,
     "metadata": {},
     "output_type": "execute_result"
    }
   ],
   "source": [
    "import pandas as pd\n",
    "\n",
    "df_heart = pd.read_csv('../data_root/heart_attack_prediction_dataset.csv')\n",
    "df_heart.columns"
   ]
  },
  {
   "cell_type": "code",
   "execution_count": 6,
   "id": "09ee3b56-4095-4882-9c81-77462b511b67",
   "metadata": {},
   "outputs": [
    {
     "name": "stdout",
     "output_type": "stream",
     "text": [
      "   Systolic  Diastolic\n",
      "0       158         88\n",
      "1       165         93\n",
      "2       174         99\n",
      "3       163        100\n",
      "4        91         88\n"
     ]
    }
   ],
   "source": [
    "# Separando a coluna 'Blood Pressure' em duas colunas: 'Systolic' e 'Diastolic'\n",
    "df_heart[['Systolic', 'Diastolic']] = df_heart['Blood Pressure'].str.split('/', expand=True)\n",
    "\n",
    "# Convertendo as colunas para tipo inteiro, se necessário\n",
    "df_heart['Systolic'] = df_heart['Systolic'].astype(int)\n",
    "df_heart['Diastolic'] = df_heart['Diastolic'].astype(int)\n",
    "\n",
    "print(df_heart[['Systolic', 'Diastolic']].head())"
   ]
  },
  {
   "cell_type": "code",
   "execution_count": 7,
   "id": "b3a557f9-b716-4c09-88f2-8989a6bbef01",
   "metadata": {},
   "outputs": [
    {
     "name": "stdout",
     "output_type": "stream",
     "text": [
      "   Age        BMI  Cardiac_Risk_Index  Healthy_Lifestyle BMI_Category  \\\n",
      "0   67  31.251233          199.850247                  0    Obesidade   \n",
      "1   21  27.194973          257.338995                  0    Sobrepeso   \n",
      "2   21  28.176571          338.635314                  0    Sobrepeso   \n",
      "3   84  36.464704          300.192941                  0    Obesidade   \n",
      "4   66  21.809144          218.761829                  0       Normal   \n",
      "\n",
      "   Mean_Blood_Pressure Age_Group  \n",
      "0                123.0     Idoso  \n",
      "1                129.0     Jovem  \n",
      "2                136.5     Jovem  \n",
      "3                131.5     Idoso  \n",
      "4                 89.5     Idoso  \n"
     ]
    }
   ],
   "source": [
    "\n",
    "# Criando novas features \n",
    "\n",
    "# 1. Índice de Risco Cardíaco\n",
    "df_heart['Cardiac_Risk_Index'] = (\n",
    "    0.4 * df_heart['Cholesterol'] + \n",
    "    0.3 * df_heart['Triglycerides'] + \n",
    "    0.2 * df_heart['BMI'] + \n",
    "    0.1 * (df_heart['Systolic'] + df_heart['Diastolic'])\n",
    ")\n",
    "\n",
    "# 2. Classificação do IMC\n",
    "def classificar_bmi(bmi):\n",
    "    if bmi < 18.5:\n",
    "        return 'Abaixo do Peso'\n",
    "    elif 18.5 <= bmi < 24.9:\n",
    "        return 'Normal'\n",
    "    elif 25 <= bmi < 29.9:\n",
    "        return 'Sobrepeso'\n",
    "    else:\n",
    "        return 'Obesidade'\n",
    "\n",
    "df_heart['BMI_Category'] = df_heart['BMI'].apply(classificar_bmi)\n",
    "\n",
    "# 3. Estilo de Vida Saudável\n",
    "df_heart['Healthy_Lifestyle'] = (\n",
    "    (df_heart['Exercise Hours Per Week'] >= 3) & \n",
    "    (df_heart['Sleep Hours Per Day'] >= 7) & \n",
    "    (df_heart['Alcohol Consumption'] == 0)\n",
    ").astype(int)\n",
    "\n",
    "# 4. Pressão Arterial Média\n",
    "df_heart['Mean_Blood_Pressure'] = (df_heart['Systolic'] + df_heart['Diastolic']) / 2\n",
    "\n",
    "# 5. Idade em Faixas\n",
    "def categorizar_idade(age):\n",
    "    if age < 30:\n",
    "        return 'Jovem'\n",
    "    elif 30 <= age < 60:\n",
    "        return 'Adulto'\n",
    "    else:\n",
    "        return 'Idoso'\n",
    "\n",
    "df_heart['Age_Group'] = df_heart['Age'].apply(categorizar_idade)\n",
    "\n",
    "# Verificando as novas features criadas\n",
    "print(df_heart[['Age', 'BMI', 'Cardiac_Risk_Index', 'Healthy_Lifestyle', 'BMI_Category', 'Mean_Blood_Pressure', 'Age_Group']].head())"
   ]
  },
  {
   "cell_type": "code",
   "execution_count": 8,
   "id": "6290f533-7394-43a6-bf13-30cc4abcbba1",
   "metadata": {},
   "outputs": [],
   "source": [
    "df_heart.to_csv('df_heart_modified.csv', index=False)"
   ]
  },
  {
   "cell_type": "code",
   "execution_count": 10,
   "id": "d936abbb-da4c-4d2d-9260-0d553a8fb1b0",
   "metadata": {},
   "outputs": [],
   "source": [
    "df_heart.to_csv('C:/Users/Calebe/Documents/df_heart_modified.csv', index=False)"
   ]
  }
 ],
 "metadata": {
  "kernelspec": {
   "display_name": "Python 3 (ipykernel)",
   "language": "python",
   "name": "python3"
  },
  "language_info": {
   "codemirror_mode": {
    "name": "ipython",
    "version": 3
   },
   "file_extension": ".py",
   "mimetype": "text/x-python",
   "name": "python",
   "nbconvert_exporter": "python",
   "pygments_lexer": "ipython3",
   "version": "3.12.4"
  }
 },
 "nbformat": 4,
 "nbformat_minor": 5
}
