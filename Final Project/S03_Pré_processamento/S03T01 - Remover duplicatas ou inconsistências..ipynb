{
 "cells": [
  {
   "cell_type": "code",
   "execution_count": 19,
   "id": "0cd67ff8-615e-419f-ad8c-686a115edf29",
   "metadata": {},
   "outputs": [
    {
     "data": {
      "text/html": [
       "<div>\n",
       "<style scoped>\n",
       "    .dataframe tbody tr th:only-of-type {\n",
       "        vertical-align: middle;\n",
       "    }\n",
       "\n",
       "    .dataframe tbody tr th {\n",
       "        vertical-align: top;\n",
       "    }\n",
       "\n",
       "    .dataframe thead th {\n",
       "        text-align: right;\n",
       "    }\n",
       "</style>\n",
       "<table border=\"1\" class=\"dataframe\">\n",
       "  <thead>\n",
       "    <tr style=\"text-align: right;\">\n",
       "      <th></th>\n",
       "      <th>Patient ID</th>\n",
       "      <th>Age</th>\n",
       "      <th>Sex</th>\n",
       "      <th>Cholesterol</th>\n",
       "      <th>Blood Pressure</th>\n",
       "      <th>Heart Rate</th>\n",
       "      <th>Diabetes</th>\n",
       "      <th>Family History</th>\n",
       "      <th>Smoking</th>\n",
       "      <th>Obesity</th>\n",
       "      <th>...</th>\n",
       "      <th>Sedentary Hours Per Day</th>\n",
       "      <th>Income</th>\n",
       "      <th>BMI</th>\n",
       "      <th>Triglycerides</th>\n",
       "      <th>Physical Activity Days Per Week</th>\n",
       "      <th>Sleep Hours Per Day</th>\n",
       "      <th>Country</th>\n",
       "      <th>Continent</th>\n",
       "      <th>Hemisphere</th>\n",
       "      <th>Heart Attack Risk</th>\n",
       "    </tr>\n",
       "  </thead>\n",
       "  <tbody>\n",
       "    <tr>\n",
       "      <th>0</th>\n",
       "      <td>BMW7812</td>\n",
       "      <td>67</td>\n",
       "      <td>Male</td>\n",
       "      <td>208</td>\n",
       "      <td>158/88</td>\n",
       "      <td>72</td>\n",
       "      <td>0</td>\n",
       "      <td>0</td>\n",
       "      <td>1</td>\n",
       "      <td>0</td>\n",
       "      <td>...</td>\n",
       "      <td>6.615001</td>\n",
       "      <td>261404</td>\n",
       "      <td>31.251233</td>\n",
       "      <td>286</td>\n",
       "      <td>0</td>\n",
       "      <td>6</td>\n",
       "      <td>Argentina</td>\n",
       "      <td>South America</td>\n",
       "      <td>Southern Hemisphere</td>\n",
       "      <td>0</td>\n",
       "    </tr>\n",
       "    <tr>\n",
       "      <th>1</th>\n",
       "      <td>CZE1114</td>\n",
       "      <td>21</td>\n",
       "      <td>Male</td>\n",
       "      <td>389</td>\n",
       "      <td>165/93</td>\n",
       "      <td>98</td>\n",
       "      <td>1</td>\n",
       "      <td>1</td>\n",
       "      <td>1</td>\n",
       "      <td>1</td>\n",
       "      <td>...</td>\n",
       "      <td>4.963459</td>\n",
       "      <td>285768</td>\n",
       "      <td>27.194973</td>\n",
       "      <td>235</td>\n",
       "      <td>1</td>\n",
       "      <td>7</td>\n",
       "      <td>Canada</td>\n",
       "      <td>North America</td>\n",
       "      <td>Northern Hemisphere</td>\n",
       "      <td>0</td>\n",
       "    </tr>\n",
       "    <tr>\n",
       "      <th>2</th>\n",
       "      <td>BNI9906</td>\n",
       "      <td>21</td>\n",
       "      <td>Female</td>\n",
       "      <td>324</td>\n",
       "      <td>174/99</td>\n",
       "      <td>72</td>\n",
       "      <td>1</td>\n",
       "      <td>0</td>\n",
       "      <td>0</td>\n",
       "      <td>0</td>\n",
       "      <td>...</td>\n",
       "      <td>9.463426</td>\n",
       "      <td>235282</td>\n",
       "      <td>28.176571</td>\n",
       "      <td>587</td>\n",
       "      <td>4</td>\n",
       "      <td>4</td>\n",
       "      <td>France</td>\n",
       "      <td>Europe</td>\n",
       "      <td>Northern Hemisphere</td>\n",
       "      <td>0</td>\n",
       "    </tr>\n",
       "    <tr>\n",
       "      <th>3</th>\n",
       "      <td>JLN3497</td>\n",
       "      <td>84</td>\n",
       "      <td>Male</td>\n",
       "      <td>383</td>\n",
       "      <td>163/100</td>\n",
       "      <td>73</td>\n",
       "      <td>1</td>\n",
       "      <td>1</td>\n",
       "      <td>1</td>\n",
       "      <td>0</td>\n",
       "      <td>...</td>\n",
       "      <td>7.648981</td>\n",
       "      <td>125640</td>\n",
       "      <td>36.464704</td>\n",
       "      <td>378</td>\n",
       "      <td>3</td>\n",
       "      <td>4</td>\n",
       "      <td>Canada</td>\n",
       "      <td>North America</td>\n",
       "      <td>Northern Hemisphere</td>\n",
       "      <td>0</td>\n",
       "    </tr>\n",
       "    <tr>\n",
       "      <th>4</th>\n",
       "      <td>GFO8847</td>\n",
       "      <td>66</td>\n",
       "      <td>Male</td>\n",
       "      <td>318</td>\n",
       "      <td>91/88</td>\n",
       "      <td>93</td>\n",
       "      <td>1</td>\n",
       "      <td>1</td>\n",
       "      <td>1</td>\n",
       "      <td>1</td>\n",
       "      <td>...</td>\n",
       "      <td>1.514821</td>\n",
       "      <td>160555</td>\n",
       "      <td>21.809144</td>\n",
       "      <td>231</td>\n",
       "      <td>1</td>\n",
       "      <td>5</td>\n",
       "      <td>Thailand</td>\n",
       "      <td>Asia</td>\n",
       "      <td>Northern Hemisphere</td>\n",
       "      <td>0</td>\n",
       "    </tr>\n",
       "  </tbody>\n",
       "</table>\n",
       "<p>5 rows × 26 columns</p>\n",
       "</div>"
      ],
      "text/plain": [
       "  Patient ID  Age     Sex  Cholesterol Blood Pressure  Heart Rate  Diabetes  \\\n",
       "0    BMW7812   67    Male          208         158/88          72         0   \n",
       "1    CZE1114   21    Male          389         165/93          98         1   \n",
       "2    BNI9906   21  Female          324         174/99          72         1   \n",
       "3    JLN3497   84    Male          383        163/100          73         1   \n",
       "4    GFO8847   66    Male          318          91/88          93         1   \n",
       "\n",
       "   Family History  Smoking  Obesity  ...  Sedentary Hours Per Day  Income  \\\n",
       "0               0        1        0  ...                 6.615001  261404   \n",
       "1               1        1        1  ...                 4.963459  285768   \n",
       "2               0        0        0  ...                 9.463426  235282   \n",
       "3               1        1        0  ...                 7.648981  125640   \n",
       "4               1        1        1  ...                 1.514821  160555   \n",
       "\n",
       "         BMI  Triglycerides  Physical Activity Days Per Week  \\\n",
       "0  31.251233            286                                0   \n",
       "1  27.194973            235                                1   \n",
       "2  28.176571            587                                4   \n",
       "3  36.464704            378                                3   \n",
       "4  21.809144            231                                1   \n",
       "\n",
       "   Sleep Hours Per Day    Country      Continent           Hemisphere  \\\n",
       "0                    6  Argentina  South America  Southern Hemisphere   \n",
       "1                    7     Canada  North America  Northern Hemisphere   \n",
       "2                    4     France         Europe  Northern Hemisphere   \n",
       "3                    4     Canada  North America  Northern Hemisphere   \n",
       "4                    5   Thailand           Asia  Northern Hemisphere   \n",
       "\n",
       "   Heart Attack Risk  \n",
       "0                  0  \n",
       "1                  0  \n",
       "2                  0  \n",
       "3                  0  \n",
       "4                  0  \n",
       "\n",
       "[5 rows x 26 columns]"
      ]
     },
     "execution_count": 19,
     "metadata": {},
     "output_type": "execute_result"
    }
   ],
   "source": [
    "import pandas as pd\n",
    "\n",
    "df_heart = pd.read_csv('heart_attack_prediction_dataset.csv')\n",
    "df_heart.head()"
   ]
  },
  {
   "cell_type": "markdown",
   "id": "f262bc1f-e049-46b0-ac22-52aa67129827",
   "metadata": {},
   "source": [
    "#### S03T01 - Remover duplicatas ou inconsistências."
   ]
  },
  {
   "cell_type": "markdown",
   "id": "daa1a9c5-0797-43a5-a3e3-a1c356defd8b",
   "metadata": {},
   "source": [
    "#### Tratamento de inconsistências"
   ]
  },
  {
   "cell_type": "code",
   "execution_count": 38,
   "id": "088f175a-2a50-4b57-ab21-a27e1246c9bd",
   "metadata": {},
   "outputs": [
    {
     "name": "stdout",
     "output_type": "stream",
     "text": [
      "Empty DataFrame\n",
      "Columns: [Patient ID, Age, Sex, Cholesterol, Blood Pressure, Heart Rate, Diabetes, Family History, Smoking, Obesity, Alcohol Consumption, Exercise Hours Per Week, Diet, Previous Heart Problems, Medication Use, Stress Level, Sedentary Hours Per Day, Income, BMI, Triglycerides, Physical Activity Days Per Week, Sleep Hours Per Day, Country, Continent, Hemisphere, Heart Attack Risk]\n",
      "Index: []\n",
      "\n",
      "[0 rows x 26 columns]\n"
     ]
    }
   ],
   "source": [
    "#verificando duplicatas baseadas em IDs\n",
    "duplicatas_por_id = df_heart[df_heart.duplicated(subset=['Patient ID'], keep=False)]\n",
    "print(duplicatas_por_id)\n"
   ]
  },
  {
   "cell_type": "code",
   "execution_count": 39,
   "id": "e0cbea4e-e952-4543-88f4-6cf6735e1dc4",
   "metadata": {},
   "outputs": [],
   "source": [
    "#verificando inconsistências em outras colunas\n",
    "df_heart = df_heart[(df_heart['Blood Pressure'].str.contains('/')) & (df_heart['BMI'] >= 15) & (df_heart['BMI'] <= 40)]\n"
   ]
  },
  {
   "cell_type": "code",
   "execution_count": 40,
   "id": "a4615a80-c6fb-43c5-99c2-cee7e01b8582",
   "metadata": {},
   "outputs": [
    {
     "name": "stdout",
     "output_type": "stream",
     "text": [
      "['Male' 'Female']\n",
      "[1 0]\n"
     ]
    }
   ],
   "source": [
    "#validando colunas categóricas\n",
    "print(df_heart['Sex'].unique())\n",
    "print(df_heart['Smoking'].unique())\n"
   ]
  },
  {
   "cell_type": "code",
   "execution_count": 41,
   "id": "38ff72e6-efa9-4981-a959-028271466130",
   "metadata": {},
   "outputs": [],
   "source": [
    "#encontrando inconsistências\n",
    "df_heart = df_heart[df_heart['Sex'].isin(['Male', 'Female'])]\n",
    "df_heart = df_heart[df_heart['Smoking'].isin([0, 1])]\n"
   ]
  },
  {
   "cell_type": "code",
   "execution_count": 42,
   "id": "59d399d1-bbc2-4be9-9d8c-98d93a20c604",
   "metadata": {},
   "outputs": [
    {
     "name": "stdout",
     "output_type": "stream",
     "text": [
      "               Age  Cholesterol   Heart Rate     Diabetes  Family History  \\\n",
      "count  8763.000000  8763.000000  8763.000000  8763.000000     8763.000000   \n",
      "mean     53.707977   259.877211    75.021682     0.652288        0.492982   \n",
      "std      21.249509    80.863276    20.550948     0.476271        0.499979   \n",
      "min      18.000000   120.000000    40.000000     0.000000        0.000000   \n",
      "25%      35.000000   192.000000    57.000000     0.000000        0.000000   \n",
      "50%      54.000000   259.000000    75.000000     1.000000        0.000000   \n",
      "75%      72.000000   330.000000    93.000000     1.000000        1.000000   \n",
      "max      90.000000   400.000000   110.000000     1.000000        1.000000   \n",
      "\n",
      "           Smoking      Obesity  Alcohol Consumption  Exercise Hours Per Week  \\\n",
      "count  8763.000000  8763.000000          8763.000000              8763.000000   \n",
      "mean      0.896839     0.501426             0.598083                10.014284   \n",
      "std       0.304186     0.500026             0.490313                 5.783745   \n",
      "min       0.000000     0.000000             0.000000                 0.002442   \n",
      "25%       1.000000     0.000000             0.000000                 4.981579   \n",
      "50%       1.000000     1.000000             1.000000                10.069559   \n",
      "75%       1.000000     1.000000             1.000000                15.050018   \n",
      "max       1.000000     1.000000             1.000000                19.998709   \n",
      "\n",
      "       Previous Heart Problems  Medication Use  Stress Level  \\\n",
      "count              8763.000000     8763.000000   8763.000000   \n",
      "mean                  0.495835        0.498345      5.469702   \n",
      "std                   0.500011        0.500026      2.859622   \n",
      "min                   0.000000        0.000000      1.000000   \n",
      "25%                   0.000000        0.000000      3.000000   \n",
      "50%                   0.000000        0.000000      5.000000   \n",
      "75%                   1.000000        1.000000      8.000000   \n",
      "max                   1.000000        1.000000     10.000000   \n",
      "\n",
      "       Sedentary Hours Per Day         Income          BMI  Triglycerides  \\\n",
      "count              8763.000000    8763.000000  8763.000000    8763.000000   \n",
      "mean                  5.993690  158263.181901    28.891446     417.677051   \n",
      "std                   3.466359   80575.190806     6.319181     223.748137   \n",
      "min                   0.001263   20062.000000    18.002337      30.000000   \n",
      "25%                   2.998794   88310.000000    23.422985     225.500000   \n",
      "50%                   5.933622  157866.000000    28.768999     417.000000   \n",
      "75%                   9.019124  227749.000000    34.324594     612.000000   \n",
      "max                  11.999313  299954.000000    39.997211     800.000000   \n",
      "\n",
      "       Physical Activity Days Per Week  Sleep Hours Per Day  Heart Attack Risk  \n",
      "count                      8763.000000          8763.000000        8763.000000  \n",
      "mean                          3.489672             7.023508           0.358211  \n",
      "std                           2.282687             1.988473           0.479502  \n",
      "min                           0.000000             4.000000           0.000000  \n",
      "25%                           2.000000             5.000000           0.000000  \n",
      "50%                           3.000000             7.000000           0.000000  \n",
      "75%                           5.000000             9.000000           1.000000  \n",
      "max                           7.000000            10.000000           1.000000  \n"
     ]
    }
   ],
   "source": [
    "#verificando valores extremos (outliers)\n",
    "print(df_heart.describe())"
   ]
  },
  {
   "cell_type": "code",
   "execution_count": 43,
   "id": "19bbd8ec-9705-44c9-8a03-5035dd17e6fa",
   "metadata": {},
   "outputs": [],
   "source": [
    "#tratamento de erros de digitação ou formatos incorretos\n",
    "df_heart['Blood Pressure'] = df_heart['Blood Pressure'].str.replace(' ', '')  # Exemplo de correção\n",
    "\n",
    "#Daqui"
   ]
  },
  {
   "cell_type": "code",
   "execution_count": 44,
   "id": "7a120f60-ddd1-4b96-a35b-912d5e579d46",
   "metadata": {},
   "outputs": [
    {
     "name": "stdout",
     "output_type": "stream",
     "text": [
      "0\n"
     ]
    }
   ],
   "source": [
    "#verificando se há duplicatas \n",
    "print(df_heart.duplicated().sum())\n"
   ]
  },
  {
   "cell_type": "code",
   "execution_count": 61,
   "id": "5065e99a-4b6f-4510-85d7-f3f1d195c8c7",
   "metadata": {},
   "outputs": [
    {
     "name": "stdout",
     "output_type": "stream",
     "text": [
      "Patient ID                         0\n",
      "Age                                0\n",
      "Sex                                0\n",
      "Cholesterol                        0\n",
      "Heart Rate                         0\n",
      "Diabetes                           0\n",
      "Family History                     0\n",
      "Smoking                            0\n",
      "Obesity                            0\n",
      "Alcohol Consumption                0\n",
      "Exercise Hours Per Week            0\n",
      "Diet                               0\n",
      "Previous Heart Problems            0\n",
      "Medication Use                     0\n",
      "Stress Level                       0\n",
      "Sedentary Hours Per Day            0\n",
      "Income                             0\n",
      "BMI                                0\n",
      "Triglycerides                      0\n",
      "Physical Activity Days Per Week    0\n",
      "Sleep Hours Per Day                0\n",
      "Country                            0\n",
      "Continent                          0\n",
      "Hemisphere                         0\n",
      "Heart Attack Risk                  0\n",
      "Systolic                           0\n",
      "Diastolic                          0\n",
      "dtype: int64\n"
     ]
    }
   ],
   "source": [
    "#Verificar valores nulos:\n",
    "print(df_heart.isnull().sum())"
   ]
  },
  {
   "cell_type": "code",
   "execution_count": null,
   "id": "f87e47e8-0bf6-4095-b636-b8e897cc766a",
   "metadata": {},
   "outputs": [],
   "source": []
  }
 ],
 "metadata": {
  "kernelspec": {
   "display_name": "Python 3 (ipykernel)",
   "language": "python",
   "name": "python3"
  },
  "language_info": {
   "codemirror_mode": {
    "name": "ipython",
    "version": 3
   },
   "file_extension": ".py",
   "mimetype": "text/x-python",
   "name": "python",
   "nbconvert_exporter": "python",
   "pygments_lexer": "ipython3",
   "version": "3.12.4"
  }
 },
 "nbformat": 4,
 "nbformat_minor": 5
}
