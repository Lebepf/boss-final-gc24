{
 "cells": [
  {
   "cell_type": "markdown",
   "id": "c8e85d61-e922-4ddb-aac9-3044911ccf1c",
   "metadata": {},
   "source": [
    "## Descrição: \n",
    "\n",
    "#### O conjunto de dados de Risco de Infarto do Miocárdio oferece uma ampla variedade de informações sobre saúde cardiovascular, incluindo atributos como idade, níveis de colesterol, pressão arterial, hábitos de tabagismo, prática de exercícios, preferências alimentares, entre outros. Ele abrange 8.763 registros de pacientes globalmente e tem como característica principal a classificação binária que indica o risco de infarto.\n",
    "\n",
    "\n"
   ]
  },
  {
   "cell_type": "markdown",
   "id": "d36546ed-098c-4459-be96-83a481428674",
   "metadata": {},
   "source": [
    "Cenário: Infartos do miocárdio representam uma preocupação global de saúde pública. O estudo e a análise preditiva de fatores de risco são fundamentais para desenvolver estratégias de prevenção e gestão das doenças cardíacas. O dataset reflete uma combinação de fatores médicos, comportamentais e socioeconômicos que podem influenciar a probabilidade de um infarto.\n",
    "\n",
    "Objetivo: Utilizar análises preditivas e aprendizado de máquina para identificar os principais fatores que contribuem para o risco de infarto, auxiliando na implementação de estratégias proativas para a prevenção e gestão de doenças cardiovasculares."
   ]
  }
 ],
 "metadata": {
  "kernelspec": {
   "display_name": "Python 3 (ipykernel)",
   "language": "python",
   "name": "python3"
  },
  "language_info": {
   "codemirror_mode": {
    "name": "ipython",
    "version": 3
   },
   "file_extension": ".py",
   "mimetype": "text/x-python",
   "name": "python",
   "nbconvert_exporter": "python",
   "pygments_lexer": "ipython3",
   "version": "3.9.5"
  }
 },
 "nbformat": 4,
 "nbformat_minor": 5
}
